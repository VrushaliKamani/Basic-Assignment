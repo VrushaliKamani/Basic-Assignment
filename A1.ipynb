{
  "nbformat": 4,
  "nbformat_minor": 0,
  "metadata": {
    "colab": {
      "name": "A1.ipynb",
      "provenance": [],
      "collapsed_sections": []
    },
    "kernelspec": {
      "name": "python3",
      "display_name": "Python 3"
    },
    "language_info": {
      "name": "python"
    }
  },
  "cells": [
    {
      "cell_type": "code",
      "source": [
        "### 1. In the below elements which of them are values or an expression? eg:- values can be integer or string and expressions will be mathematical operators.\n",
        "\n",
        "### **Ans**  \n",
        "### *  = operator\n",
        "### 'hello' = str\n",
        "### -87.8 = int\n",
        "### - = operator\n",
        "### / = operator\n",
        "### +\t= operator\n",
        "### 6 = int"
      ],
      "metadata": {
        "id": "kOAZdp9UJSIF"
      },
      "execution_count": null,
      "outputs": []
    },
    {
      "cell_type": "code",
      "source": [
        "### 2. What is the difference between string and variable?\n",
        "### **Ans**\n",
        "### string is text in quotes. int is a primitive variable to store integer numbers.\n",
        "### spam = variable\n",
        "### 'spam' = string"
      ],
      "metadata": {
        "id": "Swjb6A4VJcEe"
      },
      "execution_count": null,
      "outputs": []
    },
    {
      "cell_type": "code",
      "source": [
        "### 3. Describe three different data types.\n",
        "### **Ans**\n",
        "### Three data types are :-\n",
        "### List: the list is used for storing multiple data items in a single variable.\n",
        "### Integer: integer can store only numerical values.\n",
        "### Float: float can store only floating values such as 233.33, 22.2, etc. ###"
      ],
      "metadata": {
        "id": "mzUZyTH4K3kJ"
      },
      "execution_count": null,
      "outputs": []
    },
    {
      "cell_type": "code",
      "source": [
        "### 4. What is an expression made up of? What do all expressions do?\n",
        "### **Ans** \n",
        "### Expression is made up of values, containers, and mathematical operators\n",
        "### eg a = 2 + 3 whereas expressions are used to evaluate the values or represent the result on the screen."
      ],
      "metadata": {
        "id": "nSZDqfmPK3mi"
      },
      "execution_count": null,
      "outputs": []
    },
    {
      "cell_type": "code",
      "source": [
        "### 5. This assignment statements, like spam = 10. What is the difference between an expression and a statement?\n",
        "### Expression is made up of values, containers, and mathematical operators and the statement is just like a command that a python interpreter executes like print."
      ],
      "metadata": {
        "id": "XoFOJUabK3pC"
      },
      "execution_count": null,
      "outputs": []
    },
    {
      "cell_type": "code",
      "execution_count": 5,
      "metadata": {
        "colab": {
          "base_uri": "https://localhost:8080/"
        },
        "id": "aD6FEAay2-HH",
        "outputId": "24e85cc4-5938-4a5a-db66-d14b6f501fb9"
      },
      "outputs": [
        {
          "output_type": "execute_result",
          "data": {
            "text/plain": [
              "23"
            ]
          },
          "metadata": {},
          "execution_count": 5
        }
      ],
      "source": [
        "### 6. After running the following code, what does the variable bacon contain?\n",
        "bacon = 22\n",
        "bacon + 1\n"
      ]
    },
    {
      "cell_type": "code",
      "source": [
        "### 7. What should the values of the following two terms be?\n",
        "'spam' + 'spamspam'"
      ],
      "metadata": {
        "colab": {
          "base_uri": "https://localhost:8080/",
          "height": 35
        },
        "id": "pCI4XaH94Kjp",
        "outputId": "24e25ff2-cead-45f2-abd1-ff3e202ff6e1"
      },
      "execution_count": 3,
      "outputs": [
        {
          "output_type": "execute_result",
          "data": {
            "application/vnd.google.colaboratory.intrinsic+json": {
              "type": "string"
            },
            "text/plain": [
              "'spamspamspam'"
            ]
          },
          "metadata": {},
          "execution_count": 3
        }
      ]
    },
    {
      "cell_type": "code",
      "source": [
        "### 7. What should the values of the following two terms be?\n",
        "'spam' * 3"
      ],
      "metadata": {
        "colab": {
          "base_uri": "https://localhost:8080/",
          "height": 35
        },
        "id": "_vsmn6-u4NAT",
        "outputId": "632fd52a-e2b4-4ee8-d604-6fe291bff9f9"
      },
      "execution_count": 4,
      "outputs": [
        {
          "output_type": "execute_result",
          "data": {
            "application/vnd.google.colaboratory.intrinsic+json": {
              "type": "string"
            },
            "text/plain": [
              "'spamspamspam'"
            ]
          },
          "metadata": {},
          "execution_count": 4
        }
      ]
    },
    {
      "cell_type": "code",
      "source": [
        "### 8. Why is eggs a valid variable name while 100 is invalid?\n",
        "### **Ans**\n",
        "### As we can't start giving variable an integer name. if we, we should begin with, a string-like alphabet name then integer. e100 or eggs100 is valid "
      ],
      "metadata": {
        "id": "Jt3zeLthIbko"
      },
      "execution_count": null,
      "outputs": []
    },
    {
      "cell_type": "code",
      "source": [
        "### 9. What three functions can be used to get the integer, floating-point number, or string version of a value?\n",
        "### **Ans**\n",
        "### The int(), float(), and str() functions will evaluate to the integer, floating-point number, and string versions of the value passed to them.\n"
      ],
      "metadata": {
        "id": "Q2RemDbE4b5J"
      },
      "execution_count": null,
      "outputs": []
    },
    {
      "cell_type": "code",
      "source": [
        "### 10. Why does this expression cause an error? How can you fix it?\n",
        "### 'I have eaten ' + 99 + ' burritos.'\n",
        "### error can be solved by typecasting\n",
        "'I have eaten ' + str(99) + ' burritos.'"
      ],
      "metadata": {
        "colab": {
          "base_uri": "https://localhost:8080/",
          "height": 35
        },
        "id": "KNyCkfTELr5E",
        "outputId": "be4547b3-c285-4624-b9f0-3f142c64f1de"
      },
      "execution_count": 7,
      "outputs": [
        {
          "output_type": "execute_result",
          "data": {
            "application/vnd.google.colaboratory.intrinsic+json": {
              "type": "string"
            },
            "text/plain": [
              "'I have eaten 99 burritos.'"
            ]
          },
          "metadata": {},
          "execution_count": 7
        }
      ]
    }
  ]
}