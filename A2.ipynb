{
  "nbformat": 4,
  "nbformat_minor": 0,
  "metadata": {
    "colab": {
      "name": "A2.ipynb",
      "provenance": [],
      "collapsed_sections": []
    },
    "kernelspec": {
      "name": "python3",
      "display_name": "Python 3"
    },
    "language_info": {
      "name": "python"
    }
  },
  "cells": [
    {
      "cell_type": "markdown",
      "source": [
        "1.What are the two values of the Boolean data type? How do you write them?\n",
        "**Ans**\n",
        "Two boolean data types is:- True and False.Bool is used to test whether the result of an expression is true or false."
      ],
      "metadata": {
        "id": "mVXirRwRSVeb"
      }
    },
    {
      "cell_type": "code",
      "source": [
        "### how do you write them?\n",
        "5 > 7"
      ],
      "metadata": {
        "colab": {
          "base_uri": "https://localhost:8080/"
        },
        "id": "0THg9xvVV0zs",
        "outputId": "77156069-745a-4b07-c499-3ae500389809"
      },
      "execution_count": 1,
      "outputs": [
        {
          "output_type": "execute_result",
          "data": {
            "text/plain": [
              "False"
            ]
          },
          "metadata": {},
          "execution_count": 1
        }
      ]
    },
    {
      "cell_type": "markdown",
      "source": [
        "2.What are the three different types of Boolean operators?\n",
        "**Ans** The three different types of boolean operators are and,or,not\n",
        "And = True if both are true (X and Y)\n",
        "OR = True if atleast one is true (X or Y)\n",
        "NOT = True only if false (Not X)"
      ],
      "metadata": {
        "id": "GE3pM9CxSYoq"
      }
    },
    {
      "cell_type": "markdown",
      "source": [
        "3.Make a list of each Boolean operator's truth tables (i.e. every possible combination of Boolean values for the operator and what it evaluate ).\n",
        "**Ans**\n",
        "![image.png](data:image/png;base64,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)\n",
        "\n"
      ],
      "metadata": {
        "id": "KHhBf9E2SYrx"
      }
    },
    {
      "cell_type": "markdown",
      "source": [
        "4.What are the values of the following expressions?\n",
        "(5 > 4) and (3 == 5)\n",
        "\n",
        "* (5 > 4) and  (3 == 5) = False\n",
        "* not (5 > 4) = False\n",
        "* (5 > 4) or (3 == 5) = True\n",
        "* not ((5 > 4) or (3 == 5)) = False\n",
        "* (True and True) and (True == False) = False\n",
        "* (not False) or (not True) = True"
      ],
      "metadata": {
        "id": "zZRW9vTDSYuJ"
      }
    },
    {
      "cell_type": "code",
      "source": [
        "(5 > 4) and (3 == 5)"
      ],
      "metadata": {
        "colab": {
          "base_uri": "https://localhost:8080/"
        },
        "id": "EKOQNyMGbDCT",
        "outputId": "b6b40ab8-5136-4b24-8962-6d6dc0b18669"
      },
      "execution_count": 4,
      "outputs": [
        {
          "output_type": "execute_result",
          "data": {
            "text/plain": [
              "False"
            ]
          },
          "metadata": {},
          "execution_count": 4
        }
      ]
    },
    {
      "cell_type": "code",
      "source": [
        "not (5 > 4)"
      ],
      "metadata": {
        "colab": {
          "base_uri": "https://localhost:8080/"
        },
        "id": "-VwOEJh8bx8W",
        "outputId": "ae78740b-33ea-4d85-88d6-02eef6b40f40"
      },
      "execution_count": 5,
      "outputs": [
        {
          "output_type": "execute_result",
          "data": {
            "text/plain": [
              "False"
            ]
          },
          "metadata": {},
          "execution_count": 5
        }
      ]
    },
    {
      "cell_type": "code",
      "source": [
        "(5 > 4) or (3 == 5)"
      ],
      "metadata": {
        "colab": {
          "base_uri": "https://localhost:8080/"
        },
        "id": "vuiw-Hhubzed",
        "outputId": "91c085f3-a6a0-4853-e766-285b503ab4cf"
      },
      "execution_count": 6,
      "outputs": [
        {
          "output_type": "execute_result",
          "data": {
            "text/plain": [
              "True"
            ]
          },
          "metadata": {},
          "execution_count": 6
        }
      ]
    },
    {
      "cell_type": "code",
      "source": [
        "not ((5 > 4) or (3 == 5))"
      ],
      "metadata": {
        "colab": {
          "base_uri": "https://localhost:8080/"
        },
        "id": "P17WucGpbzhy",
        "outputId": "aeca5a94-355c-48eb-fd27-c9fbd1251742"
      },
      "execution_count": 7,
      "outputs": [
        {
          "output_type": "execute_result",
          "data": {
            "text/plain": [
              "False"
            ]
          },
          "metadata": {},
          "execution_count": 7
        }
      ]
    },
    {
      "cell_type": "code",
      "source": [
        "(True and True) and (True == False)"
      ],
      "metadata": {
        "colab": {
          "base_uri": "https://localhost:8080/"
        },
        "id": "6Pce8KvYb4tX",
        "outputId": "fe21fa7a-13d6-46c7-a991-241f99336381"
      },
      "execution_count": 8,
      "outputs": [
        {
          "output_type": "execute_result",
          "data": {
            "text/plain": [
              "False"
            ]
          },
          "metadata": {},
          "execution_count": 8
        }
      ]
    },
    {
      "cell_type": "code",
      "source": [
        "(not False) or (not True)"
      ],
      "metadata": {
        "colab": {
          "base_uri": "https://localhost:8080/"
        },
        "id": "S4MGtnwhb8Da",
        "outputId": "cac50473-e088-443f-e7a6-551ebe32c315"
      },
      "execution_count": 9,
      "outputs": [
        {
          "output_type": "execute_result",
          "data": {
            "text/plain": [
              "True"
            ]
          },
          "metadata": {},
          "execution_count": 9
        }
      ]
    },
    {
      "cell_type": "markdown",
      "source": [
        "5.What are the six comparison operators?\n",
        "**Ans**\n",
        "*   less than ( < ) \n",
        "*   less than or equal to ( <= )\n",
        "*   greater than ( > )\n",
        "*   greater than or equal to ( >= )\n",
        "*   equal to ( == )\n",
        "*   and not equal to ( != )\n"
      ],
      "metadata": {
        "id": "spfpyZmNSYw6"
      }
    },
    {
      "cell_type": "markdown",
      "source": [
        "6.How do you tell the difference between the equal to and assignment operators?Describe a condition and when you would use one.\n",
        "**Ans** \n",
        "The “=” is an assignment operator is used to assign the value on the right to the variable on the left. The '==' operator checks whether the two given operands are equal or not. If so, it returns true. Otherwise it returns false\n",
        "\n",
        "eg a = \"5\" is an assignment operator,\n",
        "    10 == 15 is an operator\n"
      ],
      "metadata": {
        "id": "u40GaaX-SYz6"
      }
    },
    {
      "cell_type": "markdown",
      "source": [
        "7.Identify the three blocks in this code:\n",
        "spam = 0\n",
        "if spam == 10:\n",
        "print('eggs')\n",
        "if spam > 5:\n",
        "print('bacon')\n",
        "else:\n",
        "print('ham')\n",
        "print('spam')\n",
        "print('spam')\n"
      ],
      "metadata": {
        "id": "3f9naIWlSY3V"
      }
    },
    {
      "cell_type": "code",
      "source": [
        "print(\"Input value of spam\")\n",
        "spam = int(input())\n",
        "if spam == 10:\n",
        "    print('eggs')\n",
        "    if spam > 5:\n",
        "        print('bacon')\n",
        "    else:\n",
        "        print('ham')\n",
        "    print('spam')\n",
        "print('spam')\n"
      ],
      "metadata": {
        "colab": {
          "base_uri": "https://localhost:8080/"
        },
        "id": "1X5VyjXDSfq0",
        "outputId": "4fb68f16-a39b-4e1d-f660-25a7f9586831"
      },
      "execution_count": 10,
      "outputs": [
        {
          "output_type": "stream",
          "name": "stdout",
          "text": [
            "Input value of spam\n",
            "4\n",
            "spam\n"
          ]
        }
      ]
    },
    {
      "cell_type": "markdown",
      "source": [
        "8.Write code that prints Hello if 1 is stored in spam, prints Howdy if 2 is stored in spam, and prints Greetings! if anything else is stored in spam."
      ],
      "metadata": {
        "id": "LoESqqqOS9B4"
      }
    },
    {
      "cell_type": "code",
      "source": [
        "print(\"Input value of spam\")\n",
        "spam = int(input())\n",
        "if spam == 1:\n",
        "  print('Hello')\n",
        "elif spam == 2:\n",
        "  print('Howdy')\n",
        "else:\n",
        "  print('Greetings!')"
      ],
      "metadata": {
        "colab": {
          "base_uri": "https://localhost:8080/"
        },
        "id": "NwTZwBLlRiHD",
        "outputId": "bc10bbe9-2884-4691-dda0-b2546ca1dd88"
      },
      "execution_count": 6,
      "outputs": [
        {
          "output_type": "stream",
          "name": "stdout",
          "text": [
            "Input value of spam\n",
            "1\n",
            "Hello\n"
          ]
        }
      ]
    },
    {
      "cell_type": "markdown",
      "source": [
        "9.If your programme is stuck in an endless loop, what keys you’ll press?\n",
        "**Ans** press ctrl + c"
      ],
      "metadata": {
        "id": "6wSQ1geoS9VD"
      }
    },
    {
      "cell_type": "markdown",
      "source": [
        "10.How can you tell the difference between break and continue?\n",
        "**Ans** The main difference between break and continue statement is that when break keyword is encountered, it will exit the loop. In case of continue keyword, the current iteration that is running will be stopped, and it will proceed with the next iteration\n",
        "\n",
        "\n"
      ],
      "metadata": {
        "id": "mOLgZ3HQTETa"
      }
    },
    {
      "cell_type": "markdown",
      "source": [
        "11.In a for loop, what is the difference between range(10), range(0, 10), and range(0, 10, 1)?\n",
        "**Ans**\n",
        "\n",
        "\n",
        "*   range(10) = printing number upto 10\n",
        "*   range(0, 10) = printing number from  0 to 10  \n",
        "*   range(0, 10, 1) = printing alternate number from  0 to 10 "
      ],
      "metadata": {
        "id": "_ptozQfMTEWD"
      }
    },
    {
      "cell_type": "markdown",
      "source": [
        "12.Write a short program that prints the numbers 1 to 10 using a for loop. Then write an equivalent program that prints the numbers 1 to 10 using a while loop."
      ],
      "metadata": {
        "id": "iE9b2f5iTEZP"
      }
    },
    {
      "cell_type": "code",
      "source": [
        "a = 1\n",
        "while(a<11):\n",
        "  print (a)\n",
        "  a = a + 1\n",
        "  if a == 3:\n",
        "    continue"
      ],
      "metadata": {
        "colab": {
          "base_uri": "https://localhost:8080/"
        },
        "id": "ihW5zILhQlTX",
        "outputId": "b689c7f3-b6dc-454f-f8c7-cd7839691caf"
      },
      "execution_count": 2,
      "outputs": [
        {
          "output_type": "stream",
          "name": "stdout",
          "text": [
            "1\n",
            "2\n",
            "3\n",
            "4\n",
            "5\n",
            "6\n",
            "7\n",
            "8\n",
            "9\n",
            "10\n"
          ]
        }
      ]
    },
    {
      "cell_type": "markdown",
      "source": [
        "13.If you had a function named bacon() inside a module named spam, how would you call it after importing spam?\n",
        "**Ans** \n",
        "This function can be called with spam.bacon()"
      ],
      "metadata": {
        "id": "-4t9vMa8TUhe"
      }
    }
  ]
}