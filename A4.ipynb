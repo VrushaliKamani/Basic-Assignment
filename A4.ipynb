{
 "cells": [
  {
   "cell_type": "code",
   "execution_count": 1,
   "id": "580dcf15",
   "metadata": {},
   "outputs": [],
   "source": [
    "### 1. What exactly is []?\n",
    "### Ans: a list is created by placing elements inside square brackets [] ,separated by commas.\n",
    "### A list can have any number of items and they may be of different types (integer, float, string, etc.). \n",
    "### A list can also have another list as an item. This is called a nested list"
   ]
  },
  {
   "cell_type": "code",
   "execution_count": 2,
   "id": "0a8873ad",
   "metadata": {},
   "outputs": [],
   "source": [
    "### 2. In a list of values stored in a variable called spam, how would you assign the value 'hello' as the third value? (Assume [2, 4, 6, 8, 10] are in spam.)\n",
    "l = [2, 4, 6, 8, 10]"
   ]
  },
  {
   "cell_type": "code",
   "execution_count": 3,
   "id": "0b7469df",
   "metadata": {},
   "outputs": [
    {
     "data": {
      "text/plain": [
       "[2, 4, 6, 8, 10]"
      ]
     },
     "execution_count": 3,
     "metadata": {},
     "output_type": "execute_result"
    }
   ],
   "source": [
    "l"
   ]
  },
  {
   "cell_type": "code",
   "execution_count": 4,
   "id": "7cacad0b",
   "metadata": {},
   "outputs": [],
   "source": [
    "l.insert(2 , \"hello\")"
   ]
  },
  {
   "cell_type": "code",
   "execution_count": 5,
   "id": "7f18fe0f",
   "metadata": {},
   "outputs": [
    {
     "data": {
      "text/plain": [
       "[2, 4, 'hello', 6, 8, 10]"
      ]
     },
     "execution_count": 5,
     "metadata": {},
     "output_type": "execute_result"
    }
   ],
   "source": [
    "l"
   ]
  },
  {
   "cell_type": "code",
   "execution_count": 6,
   "id": "3f2370e0",
   "metadata": {},
   "outputs": [
    {
     "data": {
      "text/plain": [
       "6"
      ]
     },
     "execution_count": 6,
     "metadata": {},
     "output_type": "execute_result"
    }
   ],
   "source": [
    "### 3. What is the value of spam[int(int('3' * 2) / 11)]?\n",
    "l[int(int('3' * 2) / 11)]"
   ]
  },
  {
   "cell_type": "code",
   "execution_count": 7,
   "id": "b5b94f27",
   "metadata": {},
   "outputs": [
    {
     "data": {
      "text/plain": [
       "[10, 8, 6, 'hello', 4, 2]"
      ]
     },
     "execution_count": 7,
     "metadata": {},
     "output_type": "execute_result"
    }
   ],
   "source": [
    "### 4. What is the value of spam[-1]?\n",
    "l[::-1]"
   ]
  },
  {
   "cell_type": "code",
   "execution_count": 8,
   "id": "52b1b985",
   "metadata": {},
   "outputs": [
    {
     "data": {
      "text/plain": [
       "[2, 'hello', 8]"
      ]
     },
     "execution_count": 8,
     "metadata": {},
     "output_type": "execute_result"
    }
   ],
   "source": [
    "### 5. What is the value of spam[:2]?\n",
    "l[::2]"
   ]
  },
  {
   "cell_type": "code",
   "execution_count": 9,
   "id": "133f2bc5",
   "metadata": {},
   "outputs": [],
   "source": [
    "### Let's pretend bacon has the list [3.14, 'cat,' 11, 'cat,' True] for the next three questions.\n",
    "bacon = [3.14, 'cat', 11, 'cat', True]"
   ]
  },
  {
   "cell_type": "code",
   "execution_count": 10,
   "id": "e7f6a1fe",
   "metadata": {},
   "outputs": [
    {
     "data": {
      "text/plain": [
       "1"
      ]
     },
     "execution_count": 10,
     "metadata": {},
     "output_type": "execute_result"
    }
   ],
   "source": [
    "### 6. What is the value of bacon.index('cat')?\n",
    "bacon.index('cat')"
   ]
  },
  {
   "cell_type": "code",
   "execution_count": 11,
   "id": "1d25dce4",
   "metadata": {},
   "outputs": [],
   "source": [
    "### 7. How does bacon.append(99) change the look of the list value in bacon?\n",
    "bacon.append(99)"
   ]
  },
  {
   "cell_type": "code",
   "execution_count": 12,
   "id": "8822f6b7",
   "metadata": {},
   "outputs": [
    {
     "data": {
      "text/plain": [
       "[3.14, 'cat', 11, 'cat', True, 99]"
      ]
     },
     "execution_count": 12,
     "metadata": {},
     "output_type": "execute_result"
    }
   ],
   "source": [
    "bacon"
   ]
  },
  {
   "cell_type": "code",
   "execution_count": 13,
   "id": "c5b2fd42",
   "metadata": {},
   "outputs": [],
   "source": [
    "### 8. How does bacon.remove('cat') change the look of the list in bacon?\n",
    "bacon.remove('cat')"
   ]
  },
  {
   "cell_type": "code",
   "execution_count": 14,
   "id": "809d794c",
   "metadata": {},
   "outputs": [
    {
     "data": {
      "text/plain": [
       "[3.14, 11, 'cat', True, 99]"
      ]
     },
     "execution_count": 14,
     "metadata": {},
     "output_type": "execute_result"
    }
   ],
   "source": [
    "bacon"
   ]
  },
  {
   "cell_type": "code",
   "execution_count": 15,
   "id": "d83d4a66",
   "metadata": {},
   "outputs": [
    {
     "data": {
      "text/plain": [
       "[2, 4, 'hello', 6, 8, 10, 3.14, 11, 'cat', True, 99]"
      ]
     },
     "execution_count": 15,
     "metadata": {},
     "output_type": "execute_result"
    }
   ],
   "source": [
    "### 9. What are the list concatenation and list replication operators?\n",
    "### Ans: The operator for list concatenation is +, while the operator for replication is *\n",
    "### eg of concatenation\n",
    "l + bacon"
   ]
  },
  {
   "cell_type": "code",
   "execution_count": 16,
   "id": "bb8cb253",
   "metadata": {},
   "outputs": [
    {
     "data": {
      "text/plain": [
       "[2, 4, 'hello', 6, 8, 10, 2, 4, 'hello', 6, 8, 10, 2, 4, 'hello', 6, 8, 10]"
      ]
     },
     "execution_count": 16,
     "metadata": {},
     "output_type": "execute_result"
    }
   ],
   "source": [
    "### eg of replication\n",
    "l * 3"
   ]
  },
  {
   "cell_type": "code",
   "execution_count": 17,
   "id": "b11d1077",
   "metadata": {},
   "outputs": [],
   "source": [
    "### 10. What is difference between the list methods append() and insert()?\n",
    "### Ans: The only difference between append() and insert() is that insert function allows us to add a specific element at a specified index of the list unlike append()\n",
    "### where we can add the element only at end of the list."
   ]
  },
  {
   "cell_type": "code",
   "execution_count": 18,
   "id": "41ff2a82",
   "metadata": {},
   "outputs": [],
   "source": [
    "### 11. What are the two methods for removing items from a list?\n",
    "### Ans: The methods for removing items from a list are pop() and clear().\n",
    "### The pop() method removes an element from the list based on the index given. \n",
    "### The clear() method will remove all the elements present in the list."
   ]
  },
  {
   "cell_type": "code",
   "execution_count": 19,
   "id": "a8402199",
   "metadata": {},
   "outputs": [],
   "source": [
    "### 12. Describe how list values and string values are identical.\n",
    "### Ans: The similarity between Lists and Strings values is that both are sequences."
   ]
  },
  {
   "cell_type": "code",
   "execution_count": 20,
   "id": "c4e13f16",
   "metadata": {},
   "outputs": [],
   "source": [
    "### 13. What's the difference between tuples and lists?\n",
    "### Ans: List\tTuple\n",
    "### It is mutable\tIt is immutable\n",
    "### The implication of iterations is time-consuming in the list.\tImplications of iterations are much faster in tuples.\n",
    "### Operations like insertion and deletion are better performed.\tElements can be accessed better.\n",
    "### Consumes more memory.\tConsumes less memory.\n",
    "### Many built-in methods are available.\tDoes not have many built-in methods.\n",
    "### Unexpected errors and changes can easily occur in lists.\tUnexpected errors and changes rarely occur in tuples."
   ]
  },
  {
   "cell_type": "code",
   "execution_count": 21,
   "id": "a38e13a3",
   "metadata": {},
   "outputs": [],
   "source": [
    "### 14. How do you type a tuple value that only contains the integer 42?\n",
    "tuple = (42)"
   ]
  },
  {
   "cell_type": "code",
   "execution_count": 22,
   "id": "f84cae79",
   "metadata": {},
   "outputs": [
    {
     "data": {
      "text/plain": [
       "42"
      ]
     },
     "execution_count": 22,
     "metadata": {},
     "output_type": "execute_result"
    }
   ],
   "source": [
    "tuple"
   ]
  },
  {
   "cell_type": "code",
   "execution_count": 23,
   "id": "30c5fd3d",
   "metadata": {},
   "outputs": [],
   "source": [
    "### 15. How do you get a list value's tuple form? How do you get a tuple value's list form?\n",
    "### Ans: List comprehension along with zip() function is used to convert the tuples to list and create a list of tuples."
   ]
  },
  {
   "cell_type": "code",
   "execution_count": 24,
   "id": "823c568f",
   "metadata": {},
   "outputs": [],
   "source": [
    "### 16. Variables that \"contain\" list values are not necessarily lists themselves. Instead, what do they contain?\n",
    "### Ans: Elements"
   ]
  },
  {
   "cell_type": "code",
   "execution_count": 25,
   "id": "c10034b0",
   "metadata": {},
   "outputs": [],
   "source": [
    "### 17. How do you distinguish between copy.copy() and copy.deepcopy()?\n",
    "### Ans: A copy() method creates a copy of an existing list. The copy() method is added to the end of a list object and so it does not accept any parameters\n",
    "### A deep copy means that all of the values of the new variable are copied and disconnected from the original variable."
   ]
  }
 ],
 "metadata": {
  "kernelspec": {
   "display_name": "Python 3 (ipykernel)",
   "language": "python",
   "name": "python3"
  },
  "language_info": {
   "codemirror_mode": {
    "name": "ipython",
    "version": 3
   },
   "file_extension": ".py",
   "mimetype": "text/x-python",
   "name": "python",
   "nbconvert_exporter": "python",
   "pygments_lexer": "ipython3",
   "version": "3.10.0"
  }
 },
 "nbformat": 4,
 "nbformat_minor": 5
}
